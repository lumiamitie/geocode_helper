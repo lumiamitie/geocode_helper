{
 "cells": [
  {
   "cell_type": "code",
   "execution_count": 1,
   "metadata": {
    "collapsed": true
   },
   "outputs": [],
   "source": [
    "import geocoder\n",
    "import functools as fn"
   ]
  },
  {
   "cell_type": "code",
   "execution_count": 2,
   "metadata": {
    "collapsed": true
   },
   "outputs": [],
   "source": [
    "from collections import Counter"
   ]
  },
  {
   "cell_type": "code",
   "execution_count": 31,
   "metadata": {
    "collapsed": false
   },
   "outputs": [],
   "source": [
    "try:\n",
    "    from tqdm import tqdm\n",
    "    STATUS_tqdm = True\n",
    "except ImportError:\n",
    "    STATUS_tqdm = False\n",
    "    print('tqdm is not installed')\n",
    "    print('Please install tqdm to check progress')\n",
    "    print('run \"!pip install tqdm\" to install tqdm in jupyter')"
   ]
  },
  {
   "cell_type": "code",
   "execution_count": 8,
   "metadata": {
    "collapsed": false
   },
   "outputs": [],
   "source": [
    "status_tqdm = False"
   ]
  },
  {
   "cell_type": "code",
   "execution_count": null,
   "metadata": {
    "collapsed": true
   },
   "outputs": [],
   "source": [
    "?geocoder.google"
   ]
  },
  {
   "cell_type": "code",
   "execution_count": null,
   "metadata": {
    "collapsed": false
   },
   "outputs": [],
   "source": [
    "sample = geocoder.google('경기도 성남시 분당구 정자1동')"
   ]
  },
  {
   "cell_type": "code",
   "execution_count": null,
   "metadata": {
    "collapsed": false
   },
   "outputs": [],
   "source": [
    "sample.json"
   ]
  },
  {
   "cell_type": "code",
   "execution_count": null,
   "metadata": {
    "collapsed": true
   },
   "outputs": [],
   "source": [
    "sample2 = geocoder.google('경기도 성남시 분당구 정자1동 엠코헤리츠 101동 102호')"
   ]
  },
  {
   "cell_type": "code",
   "execution_count": null,
   "metadata": {
    "collapsed": false
   },
   "outputs": [],
   "source": [
    "sample2.json"
   ]
  },
  {
   "cell_type": "code",
   "execution_count": null,
   "metadata": {
    "collapsed": false
   },
   "outputs": [],
   "source": [
    "sample2.error"
   ]
  },
  {
   "cell_type": "code",
   "execution_count": null,
   "metadata": {
    "collapsed": false
   },
   "outputs": [],
   "source": [
    "sample.error is None"
   ]
  },
  {
   "cell_type": "code",
   "execution_count": null,
   "metadata": {
    "collapsed": false
   },
   "outputs": [],
   "source": [
    "sample2.error is not None"
   ]
  },
  {
   "cell_type": "code",
   "execution_count": null,
   "metadata": {
    "collapsed": false
   },
   "outputs": [],
   "source": [
    "2**12"
   ]
  },
  {
   "cell_type": "code",
   "execution_count": null,
   "metadata": {
    "collapsed": false
   },
   "outputs": [],
   "source": [
    "sample.latlng"
   ]
  },
  {
   "cell_type": "code",
   "execution_count": 3,
   "metadata": {
    "collapsed": true
   },
   "outputs": [],
   "source": [
    "class GeocodingError(Exception):\n",
    "    '''\n",
    "    Google Geocoding API의 에러를 받아서 raise시킨다.\n",
    "    \n",
    "    OVER_QUERY_LIMIT : 구글 API의 일일 제한 한도를 초과할 경우 발생하는 에러\n",
    "    '''\n",
    "    \n",
    "    def __init__(self, error_type):\n",
    "        self.error_type = error_type"
   ]
  },
  {
   "cell_type": "code",
   "execution_count": null,
   "metadata": {
    "collapsed": false
   },
   "outputs": [],
   "source": [
    "raise Exception('a', 'bb')"
   ]
  },
  {
   "cell_type": "code",
   "execution_count": null,
   "metadata": {
    "collapsed": true
   },
   "outputs": [],
   "source": [
    "?Exception"
   ]
  },
  {
   "cell_type": "code",
   "execution_count": 4,
   "metadata": {
    "collapsed": true
   },
   "outputs": [],
   "source": [
    "@fn.lru_cache(maxsize=2500)\n",
    "def m_geocode(addr):\n",
    "    # print('Live Geocoding!')\n",
    "    r = geocoder.google(addr)\n",
    "    \n",
    "    if r.error is not None:\n",
    "        raise GeocodingError(r.error)\n",
    "    \n",
    "    return r"
   ]
  },
  {
   "cell_type": "code",
   "execution_count": null,
   "metadata": {
    "collapsed": false
   },
   "outputs": [],
   "source": [
    "m_geocode('경기도 성남시 분당구 정자1동 엠코헤리츠 101동 102호')"
   ]
  },
  {
   "cell_type": "code",
   "execution_count": null,
   "metadata": {
    "collapsed": false
   },
   "outputs": [],
   "source": [
    "try:\n",
    "    m_geocode('경기도 성남시 분당구 정자1동 엠코헤리츠 101동 102호')\n",
    "except GeocodingError as e:\n",
    "    aaa = e"
   ]
  },
  {
   "cell_type": "code",
   "execution_count": null,
   "metadata": {
    "collapsed": false
   },
   "outputs": [],
   "source": [
    "aaa.args[0]"
   ]
  },
  {
   "cell_type": "markdown",
   "metadata": {},
   "source": [
    "첫번째에는 구글 api를 통해 데이터를 불러온다"
   ]
  },
  {
   "cell_type": "code",
   "execution_count": null,
   "metadata": {
    "collapsed": false
   },
   "outputs": [],
   "source": [
    "m_geocode('경기도 성남시 분당구 정자1동')"
   ]
  },
  {
   "cell_type": "markdown",
   "metadata": {},
   "source": [
    "두 번째로 같은 위치를 요청하면 캐시된 데이터를 불러온다"
   ]
  },
  {
   "cell_type": "code",
   "execution_count": null,
   "metadata": {
    "collapsed": false
   },
   "outputs": [],
   "source": [
    "m_geocode('경기도 성남시 분당구 정자1동')"
   ]
  },
  {
   "cell_type": "code",
   "execution_count": 5,
   "metadata": {
    "collapsed": true
   },
   "outputs": [],
   "source": [
    "def geocode_list(addr_list):\n",
    "    # 최종적으로 결과물을 저장할 리스트\n",
    "    result_list = []\n",
    "    \n",
    "    # 에러가 발생할 경우 에러 종류를 저장할 리스트\n",
    "    error_list = []\n",
    "    \n",
    "    if status_tqdm:\n",
    "        loop = tqdm(addr_list)\n",
    "    else:\n",
    "        loop = addr_list\n",
    "    \n",
    "    for addr in loop:\n",
    "        try:\n",
    "            # geocoding 시도\n",
    "            g = m_geocode(addr)\n",
    "            result_list.append({'addr': addr, 'lat': g.latlng[0], 'lng': g.latlng[1]})\n",
    "        except GeocodingError as e:\n",
    "            # 에러가 발생할 경우 None으로 값을 채운다\n",
    "            result_list.append({'addr': addr, 'lat': None, 'lng': None})\n",
    "            error_list.append(e.args[0])\n",
    "\n",
    "    # 에러가 발생했을 경우 에러별로 횟수를 정리해서 공유\n",
    "    if len(error_list) > 0:\n",
    "        error_counts = Counter(error_list)\n",
    "        print('Error Counts : ', error_counts.most_common())\n",
    "        \n",
    "    return result_list"
   ]
  },
  {
   "cell_type": "code",
   "execution_count": null,
   "metadata": {
    "collapsed": false
   },
   "outputs": [],
   "source": [
    "c = Counter(['a', 'a', 'a', 'b', 'b'])"
   ]
  },
  {
   "cell_type": "code",
   "execution_count": null,
   "metadata": {
    "collapsed": false
   },
   "outputs": [],
   "source": [
    "print('Error Counts : ', c.most_common())"
   ]
  },
  {
   "cell_type": "code",
   "execution_count": null,
   "metadata": {
    "collapsed": false
   },
   "outputs": [],
   "source": [
    "[x for x in c.fromkeys()]"
   ]
  },
  {
   "cell_type": "code",
   "execution_count": null,
   "metadata": {
    "collapsed": false
   },
   "outputs": [],
   "source": [
    "for e in c.keys():\n",
    "    print(e)"
   ]
  },
  {
   "cell_type": "code",
   "execution_count": null,
   "metadata": {
    "collapsed": false
   },
   "outputs": [],
   "source": [
    "len([])"
   ]
  },
  {
   "cell_type": "code",
   "execution_count": 6,
   "metadata": {
    "collapsed": true
   },
   "outputs": [],
   "source": [
    "sample_list = ['경기도 성남시 분당구 정자1동 엠코헤리츠 101동 102호', \n",
    "               '경기도 성남시 분당구 정자1동 엠코헤리츠 101동 102호',\n",
    "               '경기도 성남시 분당구 정자1동 엠코헤리츠 101동 102호',\n",
    "               '경기도 성남시 분당구 정자1동 엠코헤리츠 101동 102호',\n",
    "               '경기도 성남시 분당구 정자1동',\n",
    "                '서울시 서대문구 신촌동']"
   ]
  },
  {
   "cell_type": "code",
   "execution_count": 70,
   "metadata": {
    "collapsed": true
   },
   "outputs": [],
   "source": [
    "sample_list2 = ['경기도 성남시 분당구 정자1동',\n",
    "                '서울시 서대문구 신촌동',\n",
    "              '경기도 성남시 분당구 정자1동',\n",
    "                '서울시 서대문구 신촌동']"
   ]
  },
  {
   "cell_type": "code",
   "execution_count": 9,
   "metadata": {
    "collapsed": false
   },
   "outputs": [
    {
     "name": "stdout",
     "output_type": "stream",
     "text": [
      "Error Counts :  [('ZERO_RESULTS', 4)]\n"
     ]
    },
    {
     "data": {
      "text/plain": [
       "[{'addr': '경기도 성남시 분당구 정자1동 엠코헤리츠 101동 102호', 'lat': None, 'lng': None},\n",
       " {'addr': '경기도 성남시 분당구 정자1동 엠코헤리츠 101동 102호', 'lat': None, 'lng': None},\n",
       " {'addr': '경기도 성남시 분당구 정자1동 엠코헤리츠 101동 102호', 'lat': None, 'lng': None},\n",
       " {'addr': '경기도 성남시 분당구 정자1동 엠코헤리츠 101동 102호', 'lat': None, 'lng': None},\n",
       " {'addr': '경기도 성남시 분당구 정자1동', 'lat': 37.3614515, 'lng': 127.111435},\n",
       " {'addr': '서울시 서대문구 신촌동', 'lat': 37.5646027, 'lng': 126.9390819}]"
      ]
     },
     "execution_count": 9,
     "metadata": {},
     "output_type": "execute_result"
    }
   ],
   "source": [
    "geocode_list(sample_list)"
   ]
  },
  {
   "cell_type": "code",
   "execution_count": 30,
   "metadata": {
    "collapsed": false
   },
   "outputs": [
    {
     "data": {
      "text/plain": [
       "True"
      ]
     },
     "execution_count": 30,
     "metadata": {},
     "output_type": "execute_result"
    }
   ],
   "source": [
    "True and True"
   ]
  },
  {
   "cell_type": "code",
   "execution_count": 29,
   "metadata": {
    "collapsed": false
   },
   "outputs": [
    {
     "data": {
      "text/plain": [
       "False"
      ]
     },
     "execution_count": 29,
     "metadata": {},
     "output_type": "execute_result"
    }
   ],
   "source": [
    "True and False"
   ]
  },
  {
   "cell_type": "code",
   "execution_count": 72,
   "metadata": {
    "collapsed": false
   },
   "outputs": [],
   "source": [
    "class GeocodeByGoogle:\n",
    "    def __init__(self, show_progress=True):\n",
    "        self.status_tqdm = STATUS_tqdm and show_progress\n",
    "    \n",
    "    @fn.lru_cache(maxsize=2500)\n",
    "    def geocode(self, addr):\n",
    "        # print('live geocoding!')\n",
    "        r = geocoder.google(addr)\n",
    "\n",
    "        if r.error is not None:\n",
    "            raise GeocodingError(r.error)\n",
    "\n",
    "        return r\n",
    "    \n",
    "    def geocode_list(self, addr_list):\n",
    "        # 최종적으로 결과물을 저장할 리스트\n",
    "        result_list = []\n",
    "\n",
    "        # 에러가 발생할 경우 에러 종류를 저장할 리스트\n",
    "        error_list = []\n",
    "\n",
    "        if self.status_tqdm:\n",
    "            loop = tqdm(addr_list)\n",
    "        else:\n",
    "            loop = addr_list\n",
    "\n",
    "        for addr in loop:\n",
    "            try:\n",
    "                # geocoding 시도\n",
    "                g = self.geocode(addr)\n",
    "                result_list.append({'addr': addr, 'lat': g.latlng[0], 'lng': g.latlng[1]})\n",
    "            except GeocodingError as e:\n",
    "                # 에러가 발생할 경우 None으로 값을 채운다\n",
    "                result_list.append({'addr': addr, 'lat': None, 'lng': None})\n",
    "                error_list.append(e.args[0])\n",
    "\n",
    "        # 에러가 발생했을 경우 에러별로 횟수를 정리해서 공유\n",
    "        if len(error_list) > 0:\n",
    "            error_counts = Counter(error_list)\n",
    "            print('Error Counts : ', error_counts.most_common())\n",
    "\n",
    "        return result_list\n",
    "    \n",
    "    def cache_clear(self):\n",
    "        self.geocode.cache_clear()\n",
    "        print('Cache Cleared!')\n",
    "        \n",
    "    def cache_info(self):\n",
    "        return self.geocode.cache_info()"
   ]
  },
  {
   "cell_type": "code",
   "execution_count": 51,
   "metadata": {
    "collapsed": false
   },
   "outputs": [],
   "source": [
    "aa = m_geocode.cache_info()"
   ]
  },
  {
   "cell_type": "code",
   "execution_count": 52,
   "metadata": {
    "collapsed": false
   },
   "outputs": [
    {
     "data": {
      "text/plain": [
       "CacheInfo(hits=0, misses=0, maxsize=2500, currsize=0)"
      ]
     },
     "execution_count": 52,
     "metadata": {},
     "output_type": "execute_result"
    }
   ],
   "source": [
    "aa"
   ]
  },
  {
   "cell_type": "code",
   "execution_count": 73,
   "metadata": {
    "collapsed": true
   },
   "outputs": [],
   "source": [
    "gg = GeocodeByGoogle()"
   ]
  },
  {
   "cell_type": "code",
   "execution_count": 76,
   "metadata": {
    "collapsed": false
   },
   "outputs": [
    {
     "name": "stderr",
     "output_type": "stream",
     "text": [
      "100%|██████████| 6/6 [00:01<00:00,  5.32it/s]"
     ]
    },
    {
     "name": "stdout",
     "output_type": "stream",
     "text": [
      "Error Counts :  [('ZERO_RESULTS', 4)]\n"
     ]
    },
    {
     "name": "stderr",
     "output_type": "stream",
     "text": [
      "\n"
     ]
    },
    {
     "data": {
      "text/plain": [
       "[{'addr': '경기도 성남시 분당구 정자1동 엠코헤리츠 101동 102호', 'lat': None, 'lng': None},\n",
       " {'addr': '경기도 성남시 분당구 정자1동 엠코헤리츠 101동 102호', 'lat': None, 'lng': None},\n",
       " {'addr': '경기도 성남시 분당구 정자1동 엠코헤리츠 101동 102호', 'lat': None, 'lng': None},\n",
       " {'addr': '경기도 성남시 분당구 정자1동 엠코헤리츠 101동 102호', 'lat': None, 'lng': None},\n",
       " {'addr': '경기도 성남시 분당구 정자1동', 'lat': 37.3614515, 'lng': 127.111435},\n",
       " {'addr': '서울시 서대문구 신촌동', 'lat': 37.5646027, 'lng': 126.9390819}]"
      ]
     },
     "execution_count": 76,
     "metadata": {},
     "output_type": "execute_result"
    }
   ],
   "source": [
    "gg.geocode_list(sample_list)"
   ]
  },
  {
   "cell_type": "code",
   "execution_count": 77,
   "metadata": {
    "collapsed": false
   },
   "outputs": [
    {
     "data": {
      "text/plain": [
       "CacheInfo(hits=2, misses=2, maxsize=2500, currsize=2)"
      ]
     },
     "execution_count": 77,
     "metadata": {},
     "output_type": "execute_result"
    }
   ],
   "source": [
    "gg.cache_info()"
   ]
  },
  {
   "cell_type": "code",
   "execution_count": 78,
   "metadata": {
    "collapsed": false
   },
   "outputs": [
    {
     "name": "stderr",
     "output_type": "stream",
     "text": [
      "100%|██████████| 4/4 [00:00<00:00, 20092.47it/s]\n"
     ]
    },
    {
     "data": {
      "text/plain": [
       "[{'addr': '경기도 성남시 분당구 정자1동', 'lat': 37.3614515, 'lng': 127.111435},\n",
       " {'addr': '서울시 서대문구 신촌동', 'lat': 37.5646027, 'lng': 126.9390819},\n",
       " {'addr': '경기도 성남시 분당구 정자1동', 'lat': 37.3614515, 'lng': 127.111435},\n",
       " {'addr': '서울시 서대문구 신촌동', 'lat': 37.5646027, 'lng': 126.9390819}]"
      ]
     },
     "execution_count": 78,
     "metadata": {},
     "output_type": "execute_result"
    }
   ],
   "source": [
    "gg.geocode_list(sample_list2)"
   ]
  },
  {
   "cell_type": "code",
   "execution_count": 79,
   "metadata": {
    "collapsed": false
   },
   "outputs": [
    {
     "data": {
      "text/plain": [
       "CacheInfo(hits=6, misses=2, maxsize=2500, currsize=2)"
      ]
     },
     "execution_count": 79,
     "metadata": {},
     "output_type": "execute_result"
    }
   ],
   "source": [
    "gg.cache_info()"
   ]
  },
  {
   "cell_type": "code",
   "execution_count": 80,
   "metadata": {
    "collapsed": false
   },
   "outputs": [
    {
     "name": "stdout",
     "output_type": "stream",
     "text": [
      "Cache Cleared!\n"
     ]
    }
   ],
   "source": [
    "gg.cache_clear()"
   ]
  },
  {
   "cell_type": "code",
   "execution_count": 81,
   "metadata": {
    "collapsed": false
   },
   "outputs": [
    {
     "data": {
      "text/plain": [
       "CacheInfo(hits=0, misses=0, maxsize=2500, currsize=0)"
      ]
     },
     "execution_count": 81,
     "metadata": {},
     "output_type": "execute_result"
    }
   ],
   "source": [
    "gg.cache_info()"
   ]
  }
 ],
 "metadata": {
  "anaconda-cloud": {},
  "kernelspec": {
   "display_name": "Python [conda root]",
   "language": "python",
   "name": "conda-root-py"
  },
  "language_info": {
   "codemirror_mode": {
    "name": "ipython",
    "version": 3
   },
   "file_extension": ".py",
   "mimetype": "text/x-python",
   "name": "python",
   "nbconvert_exporter": "python",
   "pygments_lexer": "ipython3",
   "version": "3.5.2"
  }
 },
 "nbformat": 4,
 "nbformat_minor": 1
}
